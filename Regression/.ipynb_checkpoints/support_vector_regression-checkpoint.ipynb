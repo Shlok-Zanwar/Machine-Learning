{
 "cells": [
  {
   "cell_type": "markdown",
   "metadata": {
    "id": "m3PAEPRDRLA3"
   },
   "source": [
    "# Support Vector Regression (SVR)"
   ]
  },
  {
   "cell_type": "markdown",
   "metadata": {
    "id": "0VCUAVIjRdzZ"
   },
   "source": [
    "## Importing the libraries"
   ]
  },
  {
   "cell_type": "code",
   "execution_count": null,
   "metadata": {
    "id": "56oRF-QfSDzC"
   },
   "outputs": [],
   "source": [
    "import numpy as np\n",
    "import matplotlib.pyplot as plt\n",
    "import pandas as pd"
   ]
  },
  {
   "cell_type": "markdown",
   "metadata": {
    "id": "fXVXoFWtSF4_"
   },
   "source": [
    "## Importing the dataset"
   ]
  },
  {
   "cell_type": "code",
   "execution_count": null,
   "metadata": {
    "id": "xfoa8OSORfHQ"
   },
   "outputs": [],
   "source": [
    "dataset = pd.read_csv('Position_Salaries.csv')\n",
    "X = dataset.iloc[:, 1:-1].values\n",
    "y = dataset.iloc[:, -1].values"
   ]
  },
  {
   "cell_type": "code",
   "execution_count": null,
   "metadata": {
    "id": "XzwCty_CuVyl"
   },
   "outputs": [],
   "source": [
    "print(X)"
   ]
  },
  {
   "cell_type": "code",
   "execution_count": null,
   "metadata": {
    "colab": {
     "base_uri": "https://localhost:8080/"
    },
    "executionInfo": {
     "elapsed": 874,
     "status": "ok",
     "timestamp": 1611749433400,
     "user": {
      "displayName": "Shlok Zanwar",
      "photoUrl": "https://lh3.googleusercontent.com/a-/AOh14GgNyc1JJA-f8SOtZWFEXqHgx6-lnQ6LO2HuDhrsJA=s64",
      "userId": "02140886358633938776"
     },
     "user_tz": -330
    },
    "id": "o6V8iB7EuV5W",
    "outputId": "38683f4c-c24f-479a-9352-c05b9aa8724e"
   },
   "outputs": [
    {
     "name": "stdout",
     "output_type": "stream",
     "text": [
      "[  45000   50000   60000   80000  110000  150000  200000  300000  500000\n",
      " 1000000]\n"
     ]
    }
   ],
   "source": [
    "print(y)"
   ]
  },
  {
   "cell_type": "code",
   "execution_count": null,
   "metadata": {
    "colab": {
     "background_save": true
    },
    "id": "k7maYr7guszI"
   },
   "outputs": [],
   "source": [
    "y = y.reshape(len(y), 1)\n",
    "print(y)"
   ]
  },
  {
   "cell_type": "markdown",
   "metadata": {
    "id": "YS8FeLHYS-nI"
   },
   "source": [
    "## Feature Scaling"
   ]
  },
  {
   "cell_type": "code",
   "execution_count": null,
   "metadata": {
    "id": "js1qqVZ7vI3h"
   },
   "outputs": [],
   "source": [
    "from sklearn.preprocessing import StandardScaler\n",
    "sc_x = StandardScaler()\n",
    "X = sc_x.fit_transform(X)  \n",
    "\n",
    "sc_y = StandardScaler()\n",
    "y = sc_y.fit_transform(y)"
   ]
  },
  {
   "cell_type": "code",
   "execution_count": null,
   "metadata": {
    "colab": {
     "base_uri": "https://localhost:8080/"
    },
    "executionInfo": {
     "elapsed": 1011,
     "status": "ok",
     "timestamp": 1611749447075,
     "user": {
      "displayName": "Shlok Zanwar",
      "photoUrl": "https://lh3.googleusercontent.com/a-/AOh14GgNyc1JJA-f8SOtZWFEXqHgx6-lnQ6LO2HuDhrsJA=s64",
      "userId": "02140886358633938776"
     },
     "user_tz": -330
    },
    "id": "YWJNpFcuv7-u",
    "outputId": "f2e8084e-810c-4aab-c242-e236591c5aa7"
   },
   "outputs": [
    {
     "name": "stdout",
     "output_type": "stream",
     "text": [
      "[[-1.5666989 ]\n",
      " [-1.21854359]\n",
      " [-0.87038828]\n",
      " [-0.52223297]\n",
      " [-0.17407766]\n",
      " [ 0.17407766]\n",
      " [ 0.52223297]\n",
      " [ 0.87038828]\n",
      " [ 1.21854359]\n",
      " [ 1.5666989 ]]\n"
     ]
    }
   ],
   "source": [
    "print(X)"
   ]
  },
  {
   "cell_type": "code",
   "execution_count": null,
   "metadata": {
    "colab": {
     "base_uri": "https://localhost:8080/"
    },
    "executionInfo": {
     "elapsed": 1226,
     "status": "ok",
     "timestamp": 1611749450647,
     "user": {
      "displayName": "Shlok Zanwar",
      "photoUrl": "https://lh3.googleusercontent.com/a-/AOh14GgNyc1JJA-f8SOtZWFEXqHgx6-lnQ6LO2HuDhrsJA=s64",
      "userId": "02140886358633938776"
     },
     "user_tz": -330
    },
    "id": "v2YblLQkv8B1",
    "outputId": "9b91658b-2c9d-45ec-da53-d856ed68733b"
   },
   "outputs": [
    {
     "name": "stdout",
     "output_type": "stream",
     "text": [
      "[[-0.72004253]\n",
      " [-0.70243757]\n",
      " [-0.66722767]\n",
      " [-0.59680786]\n",
      " [-0.49117815]\n",
      " [-0.35033854]\n",
      " [-0.17428902]\n",
      " [ 0.17781001]\n",
      " [ 0.88200808]\n",
      " [ 2.64250325]]\n"
     ]
    }
   ],
   "source": [
    "print(y)"
   ]
  },
  {
   "cell_type": "markdown",
   "metadata": {
    "id": "eiU6D2QFRjxY"
   },
   "source": [
    "## Training the SVR model on the whole dataset"
   ]
  },
  {
   "cell_type": "code",
   "execution_count": null,
   "metadata": {
    "colab": {
     "base_uri": "https://localhost:8080/"
    },
    "executionInfo": {
     "elapsed": 1038,
     "status": "ok",
     "timestamp": 1611750059840,
     "user": {
      "displayName": "Shlok Zanwar",
      "photoUrl": "https://lh3.googleusercontent.com/a-/AOh14GgNyc1JJA-f8SOtZWFEXqHgx6-lnQ6LO2HuDhrsJA=s64",
      "userId": "02140886358633938776"
     },
     "user_tz": -330
    },
    "id": "D2ZXqnhAwZKG",
    "outputId": "aa72fad3-3de3-4a87-9cec-bad93b6cfc16"
   },
   "outputs": [
    {
     "name": "stderr",
     "output_type": "stream",
     "text": [
      "/usr/local/lib/python3.6/dist-packages/sklearn/utils/validation.py:760: DataConversionWarning: A column-vector y was passed when a 1d array was expected. Please change the shape of y to (n_samples, ), for example using ravel().\n",
      "  y = column_or_1d(y, warn=True)\n"
     ]
    },
    {
     "data": {
      "text/plain": [
       "SVR(C=1.0, cache_size=200, coef0=0.0, degree=3, epsilon=0.1, gamma='scale',\n",
       "    kernel='rbf', max_iter=-1, shrinking=True, tol=0.001, verbose=False)"
      ]
     },
     "execution_count": 22,
     "metadata": {
      "tags": []
     },
     "output_type": "execute_result"
    }
   ],
   "source": [
    "from sklearn.svm import SVR\n",
    "\n",
    "regressor = SVR(kernel = 'rbf')\n",
    "regressor.fit(X, y)"
   ]
  },
  {
   "cell_type": "markdown",
   "metadata": {
    "id": "deDnDr8UR5vq"
   },
   "source": [
    "## Predicting a new result"
   ]
  },
  {
   "cell_type": "code",
   "execution_count": null,
   "metadata": {
    "colab": {
     "base_uri": "https://localhost:8080/"
    },
    "executionInfo": {
     "elapsed": 980,
     "status": "ok",
     "timestamp": 1611750154350,
     "user": {
      "displayName": "Shlok Zanwar",
      "photoUrl": "https://lh3.googleusercontent.com/a-/AOh14GgNyc1JJA-f8SOtZWFEXqHgx6-lnQ6LO2HuDhrsJA=s64",
      "userId": "02140886358633938776"
     },
     "user_tz": -330
    },
    "id": "yWs8HfLOxu63",
    "outputId": "b0851e6e-fcf7-4ff5-c11d-43bd0424363e"
   },
   "outputs": [
    {
     "data": {
      "text/plain": [
       "array([170370.0204065])"
      ]
     },
     "execution_count": 23,
     "metadata": {
      "tags": []
     },
     "output_type": "execute_result"
    }
   ],
   "source": [
    "sc_y.inverse_transform(regressor.predict(sc_x.transform([[6.5]])))"
   ]
  },
  {
   "cell_type": "code",
   "execution_count": null,
   "metadata": {
    "colab": {
     "base_uri": "https://localhost:8080/"
    },
    "executionInfo": {
     "elapsed": 1099,
     "status": "ok",
     "timestamp": 1611750318475,
     "user": {
      "displayName": "Shlok Zanwar",
      "photoUrl": "https://lh3.googleusercontent.com/a-/AOh14GgNyc1JJA-f8SOtZWFEXqHgx6-lnQ6LO2HuDhrsJA=s64",
      "userId": "02140886358633938776"
     },
     "user_tz": -330
    },
    "id": "-87H8QyFzcGv",
    "outputId": "3141b7a4-8b9d-41a5-d32c-cbe0bb36dfe0"
   },
   "outputs": [
    {
     "name": "stdout",
     "output_type": "stream",
     "text": [
      "[[0.34815531]]\n"
     ]
    }
   ],
   "source": [
    "t_x = sc_x.transform([[6.5]])\n",
    "print(t_x)"
   ]
  },
  {
   "cell_type": "markdown",
   "metadata": {
    "id": "zzedFlUISSu_"
   },
   "source": [
    "## Visualising the SVR results"
   ]
  },
  {
   "cell_type": "code",
   "execution_count": null,
   "metadata": {
    "colab": {
     "base_uri": "https://localhost:8080/",
     "height": 295
    },
    "executionInfo": {
     "elapsed": 1200,
     "status": "ok",
     "timestamp": 1611750676479,
     "user": {
      "displayName": "Shlok Zanwar",
      "photoUrl": "https://lh3.googleusercontent.com/a-/AOh14GgNyc1JJA-f8SOtZWFEXqHgx6-lnQ6LO2HuDhrsJA=s64",
      "userId": "02140886358633938776"
     },
     "user_tz": -330
    },
    "id": "4nF3FjVuz3bw",
    "outputId": "ccf373af-d8bb-486a-9b2b-8bbd3d315770"
   },
   "outputs": [
    {
     "data": {
      "image/png": "[encoded data removed]",
      "text/plain": [
       "<Figure size 432x288 with 1 Axes>"
      ]
     },
     "metadata": {
      "tags": []
     },
     "output_type": "display_data"
    }
   ],
   "source": [
    "plt.scatter(sc_x.inverse_transform(X), sc_y.inverse_transform(y), color=\"red\")\n",
    "plt.plot(sc_x.inverse_transform(X), sc_y.inverse_transform(regressor.predict(X)), color=\"blue\")\n",
    "plt.title(\"Support Vector Regression\")\n",
    "plt.xlabel(\"Position\")\n",
    "plt.ylabel(\"Salary\")\n",
    "plt.show()"
   ]
  },
  {
   "cell_type": "markdown",
   "metadata": {
    "id": "UahPVNlJSZ-K"
   },
   "source": [
    "## Visualising the SVR results (for higher resolution and smoother curve)"
   ]
  },
  {
   "cell_type": "code",
   "execution_count": null,
   "metadata": {
    "colab": {
     "base_uri": "https://localhost:8080/",
     "height": 295
    },
    "executionInfo": {
     "elapsed": 1067,
     "status": "ok",
     "timestamp": 1611750938595,
     "user": {
      "displayName": "Shlok Zanwar",
      "photoUrl": "https://lh3.googleusercontent.com/a-/AOh14GgNyc1JJA-f8SOtZWFEXqHgx6-lnQ6LO2HuDhrsJA=s64",
      "userId": "02140886358633938776"
     },
     "user_tz": -330
    },
    "id": "H9V-AuZp09rs",
    "outputId": "0ee4e391-aced-4838-8536-aff3fe398677"
   },
   "outputs": [
    {
     "data": {
      "image/png": "[encoded data removed]",
      "text/plain": [
       "<Figure size 432x288 with 1 Axes>"
      ]
     },
     "metadata": {
      "tags": []
     },
     "output_type": "display_data"
    }
   ],
   "source": [
    "X_grid = np.arange(min(sc_x.inverse_transform(X)), max(sc_x.inverse_transform(X)), 0.1)\n",
    "X_grid = X_grid.reshape((len(X_grid), 1))\n",
    "plt.scatter(sc_x.inverse_transform(X), sc_y.inverse_transform(y), color=\"red\")\n",
    "plt.plot(X_grid, sc_y.inverse_transform(regressor.predict(sc_x.transform(X_grid))), color=\"blue\")\n",
    "plt.title(\"Smooth Support Vector Regression\")\n",
    "plt.xlabel(\"Position\")\n",
    "plt.ylabel(\"Salary\")\n",
    "plt.show()"
   ]
  }
 ],
 "metadata": {
  "colab": {
   "collapsed_sections": [],
   "name": "Shlok support_vector_regression.ipynb",
   "provenance": [
    {
     "file_id": "1BXw9jnH06_f_u7-B_dC-zGshce2fUsGZ",
     "timestamp": 1611746940368
    }
   ],
   "toc_visible": true
  },
  "kernelspec": {
   "display_name": "Python 3",
   "language": "python",
   "name": "python3"
  },
  "language_info": {
   "codemirror_mode": {
    "name": "ipython",
    "version": 3
   },
   "file_extension": ".py",
   "mimetype": "text/x-python",
   "name": "python",
   "nbconvert_exporter": "python",
   "pygments_lexer": "ipython3",
   "version": "3.8.5"
  }
 },
 "nbformat": 4,
 "nbformat_minor": 1
}
