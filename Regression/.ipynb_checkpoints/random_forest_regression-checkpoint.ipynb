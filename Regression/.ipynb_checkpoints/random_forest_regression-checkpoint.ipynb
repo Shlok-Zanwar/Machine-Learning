{
 "cells": [
  {
   "cell_type": "markdown",
   "metadata": {
    "id": "LeamvpPVXuS_"
   },
   "source": [
    "# Random Forest Regression"
   ]
  },
  {
   "cell_type": "markdown",
   "metadata": {
    "id": "O2wvZ7SKXzVC"
   },
   "source": [
    "## Importing the libraries"
   ]
  },
  {
   "cell_type": "code",
   "execution_count": 6,
   "metadata": {
    "executionInfo": {
     "elapsed": 941,
     "status": "ok",
     "timestamp": 1611827562929,
     "user": {
      "displayName": "Shlok Zanwar",
      "photoUrl": "https://lh3.googleusercontent.com/a-/AOh14GgNyc1JJA-f8SOtZWFEXqHgx6-lnQ6LO2HuDhrsJA=s64",
      "userId": "02140886358633938776"
     },
     "user_tz": -330
    },
    "id": "PVmESEFZX4Ig"
   },
   "outputs": [],
   "source": [
    "import numpy as np\n",
    "import matplotlib.pyplot as plt\n",
    "import pandas as pd"
   ]
  },
  {
   "cell_type": "markdown",
   "metadata": {
    "id": "zgbK_F8-X7em"
   },
   "source": [
    "## Importing the dataset"
   ]
  },
  {
   "cell_type": "code",
   "execution_count": 7,
   "metadata": {
    "executionInfo": {
     "elapsed": 1014,
     "status": "ok",
     "timestamp": 1611827564482,
     "user": {
      "displayName": "Shlok Zanwar",
      "photoUrl": "https://lh3.googleusercontent.com/a-/AOh14GgNyc1JJA-f8SOtZWFEXqHgx6-lnQ6LO2HuDhrsJA=s64",
      "userId": "02140886358633938776"
     },
     "user_tz": -330
    },
    "id": "adBE4tjQX_Bh"
   },
   "outputs": [],
   "source": [
    "dataset = pd.read_csv('Position_Salaries.csv')\n",
    "X = dataset.iloc[:, 1:-1].values\n",
    "y = dataset.iloc[:, -1].values"
   ]
  },
  {
   "cell_type": "markdown",
   "metadata": {
    "id": "v4S2fyIBYDcu"
   },
   "source": [
    "## Training the Random Forest Regression model on the whole dataset"
   ]
  },
  {
   "cell_type": "code",
   "execution_count": 31,
   "metadata": {
    "colab": {
     "base_uri": "https://localhost:8080/"
    },
    "executionInfo": {
     "elapsed": 1301,
     "status": "ok",
     "timestamp": 1611827745793,
     "user": {
      "displayName": "Shlok Zanwar",
      "photoUrl": "https://lh3.googleusercontent.com/a-/AOh14GgNyc1JJA-f8SOtZWFEXqHgx6-lnQ6LO2HuDhrsJA=s64",
      "userId": "02140886358633938776"
     },
     "user_tz": -330
    },
    "id": "xwaf9pJjYvft",
    "outputId": "836892a0-7bb0-4f03-9f03-4b9c3e88e240"
   },
   "outputs": [
    {
     "data": {
      "text/plain": [
       "RandomForestRegressor(bootstrap=True, ccp_alpha=0.0, criterion='mse',\n",
       "                      max_depth=None, max_features='auto', max_leaf_nodes=None,\n",
       "                      max_samples=None, min_impurity_decrease=0.0,\n",
       "                      min_impurity_split=None, min_samples_leaf=1,\n",
       "                      min_samples_split=2, min_weight_fraction_leaf=0.0,\n",
       "                      n_estimators=10, n_jobs=None, oob_score=False,\n",
       "                      random_state=0, verbose=0, warm_start=False)"
      ]
     },
     "execution_count": 31,
     "metadata": {
      "tags": []
     },
     "output_type": "execute_result"
    }
   ],
   "source": [
    "from sklearn.ensemble import RandomForestRegressor\n",
    "regressor = RandomForestRegressor(n_estimators = 10, random_state = 0)\n",
    "regressor.fit(X, y)"
   ]
  },
  {
   "cell_type": "markdown",
   "metadata": {
    "id": "8IbsXbK3YM4M"
   },
   "source": [
    "## Predicting a new result"
   ]
  },
  {
   "cell_type": "code",
   "execution_count": 32,
   "metadata": {
    "colab": {
     "base_uri": "https://localhost:8080/"
    },
    "executionInfo": {
     "elapsed": 935,
     "status": "ok",
     "timestamp": 1611827747500,
     "user": {
      "displayName": "Shlok Zanwar",
      "photoUrl": "https://lh3.googleusercontent.com/a-/AOh14GgNyc1JJA-f8SOtZWFEXqHgx6-lnQ6LO2HuDhrsJA=s64",
      "userId": "02140886358633938776"
     },
     "user_tz": -330
    },
    "id": "VJwc9p5rZ74s",
    "outputId": "ee7e537a-9539-4b22-efe7-2e2b351177b4"
   },
   "outputs": [
    {
     "name": "stdout",
     "output_type": "stream",
     "text": [
      "[167000.]\n"
     ]
    }
   ],
   "source": [
    "print(regressor.predict([[6.5]]))"
   ]
  },
  {
   "cell_type": "markdown",
   "metadata": {
    "id": "kLqF9yMbYTon"
   },
   "source": [
    "## Visualising the Random Forest Regression results (higher resolution)"
   ]
  },
  {
   "cell_type": "code",
   "execution_count": 10,
   "metadata": {
    "colab": {
     "base_uri": "https://localhost:8080/",
     "height": 295
    },
    "executionInfo": {
     "elapsed": 995,
     "status": "ok",
     "timestamp": 1611827625761,
     "user": {
      "displayName": "Shlok Zanwar",
      "photoUrl": "https://lh3.googleusercontent.com/a-/AOh14GgNyc1JJA-f8SOtZWFEXqHgx6-lnQ6LO2HuDhrsJA=s64",
      "userId": "02140886358633938776"
     },
     "user_tz": -330
    },
    "id": "QBAkJzaOaVxq",
    "outputId": "e3227656-d0d3-4960-e3b6-67b571e0ab9f"
   },
   "outputs": [
    {
     "data": {
      "image/png": "[encoded data removed]",
      "text/plain": [
       "<Figure size 432x288 with 1 Axes>"
      ]
     },
     "metadata": {
      "needs_background": "light",
      "tags": []
     },
     "output_type": "display_data"
    }
   ],
   "source": [
    "X_grid = np.arange(min(X), max(X), 0.1)\n",
    "X_grid = X_grid.reshape(len(X_grid), 1)\n",
    "\n",
    "plt.scatter(X, y, color=\"red\")\n",
    "plt.plot(X_grid, regressor.predict(X_grid), color=\"blue\")\n",
    "plt.title(\"Decesion Tree Regression\")\n",
    "plt.xlabel(\"Position\")\n",
    "plt.ylabel(\"Salary\")\n",
    "plt.show()"
   ]
  }
 ],
 "metadata": {
  "colab": {
   "collapsed_sections": [],
   "name": "Shlok random_forest_regression.ipynb",
   "provenance": [
    {
     "file_id": "1bqXQKwI48-BkEa0PfM0P7WCIaZ_eRFCG",
     "timestamp": 1611826588635
    }
   ],
   "toc_visible": true
  },
  "kernelspec": {
   "display_name": "Python 3",
   "language": "python",
   "name": "python3"
  },
  "language_info": {
   "codemirror_mode": {
    "name": "ipython",
    "version": 3
   },
   "file_extension": ".py",
   "mimetype": "text/x-python",
   "name": "python",
   "nbconvert_exporter": "python",
   "pygments_lexer": "ipython3",
   "version": "3.8.5"
  }
 },
 "nbformat": 4,
 "nbformat_minor": 1
}
